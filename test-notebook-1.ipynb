{
 "cells": [
  {
   "cell_type": "code",
   "execution_count": 11,
   "metadata": {},
   "outputs": [
    {
     "name": "stdout",
     "output_type": "stream",
     "text": [
      "3.9.6 (default, Oct 18 2022, 12:41:40) \n",
      "[Clang 14.0.0 (clang-1400.0.29.202)]\n"
     ]
    }
   ],
   "source": [
    "import sys\n",
    "import os \n",
    "import openai\n",
    "import requests\n",
    "import json\n",
    "print(sys.version)"
   ]
  },
  {
   "cell_type": "code",
   "execution_count": 12,
   "metadata": {},
   "outputs": [
    {
     "name": "stdout",
     "output_type": "stream",
     "text": [
      " there was a girl who loved to read. She read everything she could get her hands on, and she loved it all. She dreamed of writing her own stories one day, but she worried that she would never come up with anything good enough. She worried that she wasn't smart enough,… Continue reading Once Upon a Time…\n",
      "\n",
      "I'm really excited to announce that my book, The Assassin's Daughter, is now available on Amazon! It's been a long journey, but it's finally here, and I'm thrilled to share it with you. Here's the blurb: In a kingdom where magic is forbidden, an assassin is summoned to the castle. She comes not to kill… Continue reading The Assassin’s Daughter is now available!\n",
      "\n",
      "I'm super\n"
     ]
    }
   ],
   "source": [
    "subscription_key = \"fc24064d3f5746c28e7dbb49a19a2567\"\n",
    "endpoint = 'https://azure-ozguler-techexplorer.openai.azure.com'\n",
    "\n",
    "# Set headers for the HTTP request\n",
    "headers = {\n",
    "    'Content-Type': 'application/json',\n",
    "    'api-key': subscription_key\n",
    "}\n",
    "\n",
    "# Set parameters for the API call\n",
    "payload = {\n",
    "    'prompt': 'Once upon a time...',\n",
    "    'model': 'gpt-35-turbo',\n",
    "    'temperature': 0.5,\n",
    "    'max_tokens': 150,\n",
    "    'top_p': 1,\n",
    "    'frequency_penalty': 0,\n",
    "    'presence_penalty': 0\n",
    "}\n",
    "                              \n",
    "response = requests.post( endpoint + '/openai/deployments/gpt-35-turbo-ozguler/completions?api-version=2022-12-01', \n",
    "                         headers=headers, json=payload)\n",
    "\n",
    "data = json.loads(response.text)\n",
    "generated_text = data['choices'][0]['text']\n",
    "print(generated_text)"
   ]
  },
  {
   "cell_type": "code",
   "execution_count": null,
   "metadata": {},
   "outputs": [],
   "source": []
  }
 ],
 "metadata": {
  "kernelspec": {
   "display_name": "“ml-engineer-hal",
   "language": "python",
   "name": "ml-engineer-hal"
  },
  "language_info": {
   "codemirror_mode": {
    "name": "ipython",
    "version": 3
   },
   "file_extension": ".py",
   "mimetype": "text/x-python",
   "name": "python",
   "nbconvert_exporter": "python",
   "pygments_lexer": "ipython3",
   "version": "3.9.6"
  },
  "orig_nbformat": 4
 },
 "nbformat": 4,
 "nbformat_minor": 2
}
